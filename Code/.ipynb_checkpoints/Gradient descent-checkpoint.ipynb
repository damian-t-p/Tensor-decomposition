{
 "cells": [
  {
   "cell_type": "code",
   "execution_count": 1,
   "metadata": {},
   "outputs": [],
   "source": [
    "from numpy import *"
   ]
  },
  {
   "cell_type": "code",
   "execution_count": 2,
   "metadata": {},
   "outputs": [],
   "source": [
    "def euc_norm(v): return sqrt(sum(v*v))\n",
    "\n",
    "def euc_dist(u, v): return euc_norm(u - v)\n",
    "\n",
    "def unitv(v): return v/euc_norm(v)"
   ]
  },
  {
   "cell_type": "code",
   "execution_count": 3,
   "metadata": {},
   "outputs": [],
   "source": [
    "def moment_tensor(x, signals, deg):\n",
    "    return sum([dot(a, x)**deg for a in signals])\n",
    "\n",
    "def grad_f(x, signals):\n",
    "    d = len(x)\n",
    "    return 4 * (identity(d) - outer(x, x)) @ sum([a * dot(a, x)**3 for a in signals], axis=0)\n",
    "\n",
    "def grad_asc(x, signals, num_steps):\n",
    "    for i in range(num_steps):\n",
    "       \n",
    "        h = unitv(grad_f(x, signals))\n",
    "        circ_vals = [x * cos(a) + h * sin(a) for a in linspace(0, 2*pi)]\n",
    "        \n",
    "        _, idx = max((moment_tensor(y, signals, 4), idx) for (idx, y) in enumerate(circ_vals))\n",
    "        x = circ_vals[idx]\n",
    "    return x\n",
    "    "
   ]
  },
  {
   "cell_type": "code",
   "execution_count": 4,
   "metadata": {},
   "outputs": [
    {
     "name": "stdout",
     "output_type": "stream",
     "text": [
      "0.049\n"
     ]
    }
   ],
   "source": [
    "# Check what proportion of random initialisations begin in L\n",
    "\n",
    "d = 100\n",
    "n = int(d**(3))\n",
    "signals = random.normal(0, 1, (n, d))\n",
    "\n",
    "num_starts = 1000\n",
    "zeta = 1/6\n",
    "\n",
    "tensor_vals = []\n",
    "good_starts = []\n",
    "bad_starts = []\n",
    "\n",
    "for i in range(num_starts):\n",
    "    x = unitv(random.normal(0, 1, d))\n",
    "    #impr_x = grad_asc(x, signals, 10)\n",
    "    tensor_vals.append(moment_tensor(x, signals, 4))\n",
    "    \n",
    "    if tensor_vals[-1] >= 3*(1+zeta)*n:\n",
    "        good_starts.append(x)\n",
    "    elif tensor_vals[-1] < 3 * n:\n",
    "        bad_starts.append(x)\n",
    "\n",
    "num_excess = len(good_starts)\n",
    "print(num_excess/num_starts)\n"
   ]
  },
  {
   "cell_type": "code",
   "execution_count": 7,
   "metadata": {},
   "outputs": [
    {
     "name": "stdout",
     "output_type": "stream",
     "text": [
      "2851.25049698\n",
      "9789.44633867\n",
      "1.11377531366\n",
      "19040.8026699\n",
      "18857.024621\n",
      "0.160216928911\n"
     ]
    }
   ],
   "source": [
    "#x = good_starts[2]\n",
    "x = bad_starts[0]\n",
    "#x = unitv(random.normal(0, 1, d))\n",
    "\n",
    "print(moment_tensor(x, signals, 4))\n",
    "#print(euc_norm(grad_f(x, signals)))\n",
    "\n",
    "signals_pn = concatenate((signals, -signals))\n",
    "\n",
    "dist, idx = min((euc_dist(x, a/sqrt(d)), idx) for (idx, a) in enumerate(signals_pn))\n",
    "print(moment_tensor(unitv(signals_pn[idx]), signals, 4))\n",
    "print(dist)\n",
    "\n",
    "x = grad_asc(x, signals, 10)\n",
    "\n",
    "\n",
    "print(moment_tensor(x, signals, 4))\n",
    "#print(euc_norm(grad_f(x, signals)))\n",
    "\n",
    "dist, idx = min((euc_dist(x, a/sqrt(d)), idx) for (idx, a) in enumerate(signals_pn))\n",
    "print(moment_tensor(unitv(signals_pn[idx]), signals, 4))\n",
    "print(dist)\n",
    "\n",
    "#print(unitv(signals[idx]))"
   ]
  },
  {
   "cell_type": "code",
   "execution_count": 116,
   "metadata": {},
   "outputs": [
    {
     "ename": "TypeError",
     "evalue": "bad operand type for unary -: 'list'",
     "output_type": "error",
     "traceback": [
      "\u001b[1;31m---------------------------------------------------------------------------\u001b[0m",
      "\u001b[1;31mTypeError\u001b[0m                                 Traceback (most recent call last)",
      "\u001b[1;32m<ipython-input-116-83b546ed7b8c>\u001b[0m in \u001b[0;36m<module>\u001b[1;34m()\u001b[0m\n\u001b[0;32m      1\u001b[0m \u001b[0mlist_a\u001b[0m \u001b[1;33m=\u001b[0m \u001b[1;33m[\u001b[0m\u001b[1;33m-\u001b[0m\u001b[1;36m1\u001b[0m\u001b[1;33m,\u001b[0m \u001b[1;36m1\u001b[0m\u001b[1;33m,\u001b[0m \u001b[1;33m-\u001b[0m\u001b[1;36m3\u001b[0m\u001b[1;33m,\u001b[0m \u001b[1;36m2\u001b[0m\u001b[1;33m,\u001b[0m \u001b[1;36m3\u001b[0m\u001b[1;33m,\u001b[0m \u001b[1;36m4\u001b[0m\u001b[1;33m]\u001b[0m\u001b[1;33m\u001b[0m\u001b[0m\n\u001b[1;32m----> 2\u001b[1;33m \u001b[0mlist_a\u001b[0m \u001b[1;33m+\u001b[0m \u001b[1;33m(\u001b[0m\u001b[1;33m-\u001b[0m\u001b[0mlist_a\u001b[0m\u001b[1;33m)\u001b[0m\u001b[1;33m\u001b[0m\u001b[0m\n\u001b[0m\u001b[0;32m      3\u001b[0m \u001b[0mmax\u001b[0m\u001b[1;33m(\u001b[0m\u001b[1;33m(\u001b[0m\u001b[0ma\u001b[0m\u001b[1;33m*\u001b[0m\u001b[0ma\u001b[0m\u001b[1;33m,\u001b[0m \u001b[0midx\u001b[0m\u001b[1;33m)\u001b[0m \u001b[1;32mfor\u001b[0m \u001b[1;33m(\u001b[0m\u001b[0midx\u001b[0m\u001b[1;33m,\u001b[0m \u001b[0ma\u001b[0m\u001b[1;33m)\u001b[0m \u001b[1;32min\u001b[0m \u001b[0menumerate\u001b[0m\u001b[1;33m(\u001b[0m\u001b[0mlist_a\u001b[0m\u001b[1;33m)\u001b[0m\u001b[1;33m)\u001b[0m\u001b[1;33m\u001b[0m\u001b[0m\n",
      "\u001b[1;31mTypeError\u001b[0m: bad operand type for unary -: 'list'"
     ]
    }
   ],
   "source": [
    "list_a = [-1, 1, -3, 2, 3, 4]\n",
    "list_a + (-list_a)\n",
    "max((a*a, idx) for (idx, a) in enumerate(list_a))\n"
   ]
  },
  {
   "cell_type": "code",
   "execution_count": 23,
   "metadata": {},
   "outputs": [
    {
     "data": {
      "text/plain": [
       "<enumerate at 0x163992942d0>"
      ]
     },
     "execution_count": 23,
     "metadata": {},
     "output_type": "execute_result"
    }
   ],
   "source": [
    "enumerate([1, 2, 3])"
   ]
  },
  {
   "cell_type": "code",
   "execution_count": 6,
   "metadata": {},
   "outputs": [
    {
     "data": {
      "text/plain": [
       "3.141592653589793"
      ]
     },
     "execution_count": 6,
     "metadata": {},
     "output_type": "execute_result"
    }
   ],
   "source": [
    "pi"
   ]
  }
 ],
 "metadata": {
  "kernelspec": {
   "display_name": "Python 3",
   "language": "python",
   "name": "python3"
  },
  "language_info": {
   "codemirror_mode": {
    "name": "ipython",
    "version": 3
   },
   "file_extension": ".py",
   "mimetype": "text/x-python",
   "name": "python",
   "nbconvert_exporter": "python",
   "pygments_lexer": "ipython3",
   "version": "3.5.2"
  }
 },
 "nbformat": 4,
 "nbformat_minor": 2
}
